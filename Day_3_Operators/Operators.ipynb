{
 "cells": [
  {
   "cell_type": "code",
   "execution_count": 2,
   "metadata": {},
   "outputs": [
    {
     "name": "stdout",
     "output_type": "stream",
     "text": [
      "30\n",
      "5.7\n",
      "(1+3j)\n"
     ]
    }
   ],
   "source": [
    "age = 30\n",
    "height = 5.7\n",
    "complex_num = 1+3j\n",
    "print(age)\n",
    "print(height)\n",
    "print(complex_num)\n"
   ]
  },
  {
   "cell_type": "code",
   "execution_count": 7,
   "metadata": {},
   "outputs": [
    {
     "name": "stdout",
     "output_type": "stream",
     "text": [
      "Area of a circle: 314.0\n",
      "Area of rectangle: 200\n",
      "735.75 N\n",
      "1000.0\n"
     ]
    }
   ],
   "source": [
    "# Calculating area of a circle\n",
    "radius = 10                                 # radius of a circle\n",
    "area_of_circle = 3.14 * radius ** 2         # two * sign means exponent or power\n",
    "print('Area of a circle:', area_of_circle)\n",
    "\n",
    "# Calculating area of a rectangle\n",
    "length = 10\n",
    "width = 20\n",
    "area_of_rectangle = length * width\n",
    "print('Area of rectangle:', area_of_rectangle)\n",
    "\n",
    "# Calculating a weight of an object\n",
    "mass = 75\n",
    "gravity = 9.81\n",
    "weight = mass * gravity\n",
    "print(weight, 'N')                         # Adding unit to the weight\n",
    "\n",
    "# Calculate the density of a liquid\n",
    "mass = 75 # in Kg\n",
    "volume = 0.075 # in cubic meter\n",
    "density = mass/volume # 1000 Kg/m^3\n",
    "print(density)\n"
   ]
  },
  {
   "cell_type": "code",
   "execution_count": 9,
   "metadata": {},
   "outputs": [
    {
     "name": "stdout",
     "output_type": "stream",
     "text": [
      "100.0\n"
     ]
    }
   ],
   "source": [
    "# Area of triangle\n",
    "base = int(input('Enter the Base Value: '))\n",
    "Height = int(input('Enter the Height Value: '))\n",
    "Area_Of_Triangle = 0.5*base*Height\n",
    "print(Area_Of_Triangle)"
   ]
  },
  {
   "cell_type": "code",
   "execution_count": 20,
   "metadata": {},
   "outputs": [
    {
     "name": "stdout",
     "output_type": "stream",
     "text": [
      "12\n"
     ]
    }
   ],
   "source": [
    "\"\"\"Write a script that prompts the user to enter side a, side b, and side c of the triangle.\n",
    "Calculate the perimeter of the triangle (perimeter = a + b + c).\"\"\"\n",
    "\"\"\"Sides of Triangle\"\"\"\n",
    "a = 5\n",
    "b = 3\n",
    "c = 4\n",
    "perimeter_of_triangle = a+b+c\n",
    "print(perimeter_of_triangle) \n"
   ]
  },
  {
   "cell_type": "code",
   "execution_count": 1,
   "metadata": {},
   "outputs": [
    {
     "ename": "ValueError",
     "evalue": "invalid literal for int() with base 10: ''",
     "output_type": "error",
     "traceback": [
      "\u001b[1;31m---------------------------------------------------------------------------\u001b[0m",
      "\u001b[1;31mValueError\u001b[0m                                Traceback (most recent call last)",
      "\u001b[1;32me:\\Data Scientist program\\Python Practice\\30 days of python practice\\Day_3_Operators\\Operators.ipynb Cell 5\u001b[0m in \u001b[0;36m<cell line: 3>\u001b[1;34m()\u001b[0m\n\u001b[0;32m      <a href='vscode-notebook-cell:/e%3A/Data%20Scientist%20program/Python%20Practice/30%20days%20of%20python%20practice/Day_3_Operators/Operators.ipynb#W4sZmlsZQ%3D%3D?line=0'>1</a>\u001b[0m \u001b[39m\"\"\"Get length and width of a rectangle using prompt.\u001b[39;00m\n\u001b[0;32m      <a href='vscode-notebook-cell:/e%3A/Data%20Scientist%20program/Python%20Practice/30%20days%20of%20python%20practice/Day_3_Operators/Operators.ipynb#W4sZmlsZQ%3D%3D?line=1'>2</a>\u001b[0m \u001b[39mCalculate its area (area = length x width) and perimeter (perimeter = 2 x (length + width))\"\"\"\u001b[39;00m\n\u001b[1;32m----> <a href='vscode-notebook-cell:/e%3A/Data%20Scientist%20program/Python%20Practice/30%20days%20of%20python%20practice/Day_3_Operators/Operators.ipynb#W4sZmlsZQ%3D%3D?line=2'>3</a>\u001b[0m length \u001b[39m=\u001b[39m \u001b[39mint\u001b[39;49m(\u001b[39minput\u001b[39;49m(\u001b[39m'\u001b[39;49m\u001b[39mEnter the length of Rectangle: \u001b[39;49m\u001b[39m'\u001b[39;49m))\n\u001b[0;32m      <a href='vscode-notebook-cell:/e%3A/Data%20Scientist%20program/Python%20Practice/30%20days%20of%20python%20practice/Day_3_Operators/Operators.ipynb#W4sZmlsZQ%3D%3D?line=3'>4</a>\u001b[0m Width \u001b[39m=\u001b[39m \u001b[39mint\u001b[39m(\u001b[39minput\u001b[39m(\u001b[39m'\u001b[39m\u001b[39mEnter the length of Width: \u001b[39m\u001b[39m'\u001b[39m))\n\u001b[0;32m      <a href='vscode-notebook-cell:/e%3A/Data%20Scientist%20program/Python%20Practice/30%20days%20of%20python%20practice/Day_3_Operators/Operators.ipynb#W4sZmlsZQ%3D%3D?line=4'>5</a>\u001b[0m Area \u001b[39m=\u001b[39m length\u001b[39m*\u001b[39mwidth\n",
      "\u001b[1;31mValueError\u001b[0m: invalid literal for int() with base 10: ''"
     ]
    }
   ],
   "source": [
    "\"\"\"Get length and width of a rectangle using prompt.\n",
    "Calculate its area (area = length x width) and perimeter (perimeter = 2 x (length + width))\"\"\"\n",
    "length = int(input('Enter the length of Rectangle: '))\n",
    "Width = int(input('Enter the length of Width: '))\n",
    "Area = length*width\n",
    "print(Area)\n"
   ]
  },
  {
   "cell_type": "code",
   "execution_count": 2,
   "metadata": {},
   "outputs": [
    {
     "name": "stdout",
     "output_type": "stream",
     "text": [
      "True\n"
     ]
    }
   ],
   "source": [
    "# I hope this course is not full of jargon. Use in operator to check if jargon is in the sentence.\n",
    "print('jargon' in \"I hope this course is not full of jargon.\")"
   ]
  },
  {
   "cell_type": "code",
   "execution_count": 11,
   "metadata": {},
   "outputs": [
    {
     "name": "stdout",
     "output_type": "stream",
     "text": [
      "6\n",
      "<class 'int'>\n",
      "6.0\n",
      "<class 'float'>\n",
      "<class 'str'>\n",
      "6\n"
     ]
    }
   ],
   "source": [
    "length_of_text = len('python')\n",
    "print(length_of_text)\n",
    "print(type(length_of_text))\n",
    "float_value=float(length_of_text)\n",
    "print(float_value)\n",
    "print(type(float_value))\n",
    "string_value = str(length_of_text)\n",
    "print(type(string_value))\n",
    "print(string_value)"
   ]
  },
  {
   "cell_type": "code",
   "execution_count": 12,
   "metadata": {},
   "outputs": [
    {
     "name": "stdout",
     "output_type": "stream",
     "text": [
      "1\n",
      "if Answer is 0 then the Number is Even otherwise it is Odd\n"
     ]
    }
   ],
   "source": [
    "Number = int(input('Enter any number to check if it is even or not'))\n",
    "Answer = Number%2\n",
    "print(Answer)\n",
    "print('''if Answer is 0 then the Number is Even otherwise it is Odd''')"
   ]
  },
  {
   "cell_type": "code",
   "execution_count": 14,
   "metadata": {},
   "outputs": [
    {
     "name": "stdout",
     "output_type": "stream",
     "text": [
      "2.3333333333333335\n",
      "The converted value is  2\n",
      "False\n"
     ]
    }
   ],
   "source": [
    "# Check if the floor division of 7 by 3 is equal to the int converted value of 2.7.\n",
    "floor_division_value = 7/3\n",
    "print(floor_division_value)\n",
    "converted_value = int(floor_division_value)\n",
    "print('The converted value is ',converted_value)\n",
    "print(floor_division_value==converted_value)"
   ]
  },
  {
   "cell_type": "markdown",
   "metadata": {},
   "source": []
  }
 ],
 "metadata": {
  "kernelspec": {
   "display_name": "Python 3.10.5 64-bit",
   "language": "python",
   "name": "python3"
  },
  "language_info": {
   "codemirror_mode": {
    "name": "ipython",
    "version": 3
   },
   "file_extension": ".py",
   "mimetype": "text/x-python",
   "name": "python",
   "nbconvert_exporter": "python",
   "pygments_lexer": "ipython3",
   "version": "3.10.5"
  },
  "orig_nbformat": 4,
  "vscode": {
   "interpreter": {
    "hash": "26de051ba29f2982a8de78e945f0abaf191376122a1563185a90213a26c5da77"
   }
  }
 },
 "nbformat": 4,
 "nbformat_minor": 2
}
