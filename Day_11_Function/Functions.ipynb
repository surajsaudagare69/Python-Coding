{
 "cells": [
  {
   "cell_type": "code",
   "execution_count": 11,
   "metadata": {},
   "outputs": [
    {
     "name": "stdout",
     "output_type": "stream",
     "text": [
      "11\n"
     ]
    }
   ],
   "source": [
    "# Declare a function add_two_numbers. It takes two parameters and it returns a sum.\n",
    "def add_two_numbers():\n",
    "    num1 = int(input(\"Enter the first number: \"))\n",
    "    num2 = int(input(\"Enter the second number: \"))\n",
    "    total = num1 + num2\n",
    "    return total\n",
    "addition = add_two_numbers()\n",
    "print(addition)\n",
    "\n"
   ]
  },
  {
   "cell_type": "code",
   "execution_count": 12,
   "metadata": {},
   "outputs": [
    {
     "data": {
      "text/plain": [
       "254.34"
      ]
     },
     "execution_count": 12,
     "metadata": {},
     "output_type": "execute_result"
    }
   ],
   "source": [
    "# Area of a circle is calculated as follows: area = π x r x r.\n",
    "# Write a function that calculates area_of_circle.\n",
    "def area_of_circle(r): # funciton with parameter\n",
    "    area = 3.14*r*r\n",
    "    return area\n",
    "area_of_circle(9)"
   ]
  },
  {
   "cell_type": "code",
   "execution_count": 17,
   "metadata": {},
   "outputs": [
    {
     "name": "stdout",
     "output_type": "stream",
     "text": [
      "20\n"
     ]
    }
   ],
   "source": [
    "# Write a function called add_all_nums which takes arbitrary number of arguments and\n",
    "# sums all the arguments. Check if all the list items are number types.\n",
    "# If not do give a reasonable feedback.\n",
    "\n",
    "def add_all_nums(*nums):\n",
    "    total = 0\n",
    "    for num in nums:\n",
    "        total=total+num\n",
    "    return total\n",
    "print(add_all_nums(10,10))\n",
    "\n",
    "\n"
   ]
  },
  {
   "cell_type": "code",
   "execution_count": 19,
   "metadata": {},
   "outputs": [
    {
     "data": {
      "text/plain": [
       "50.0"
      ]
     },
     "execution_count": 19,
     "metadata": {},
     "output_type": "execute_result"
    }
   ],
   "source": [
    "# Temperature in °C can be converted to °F using this formula: °F = (°C x 9/5) + 32. \n",
    "# Write a function which converts °C to °F,\n",
    "# convert_celsius_to-fahrenheit.\n",
    "\n",
    "def convert_celsius_to_fahrenheit():\n",
    "    c = int(input(\"Enter the value of C: \"))\n",
    "    F = (c*(9/5))+32\n",
    "    return F\n",
    "convert_celsius_to_fahrenheit()\n",
    "\n"
   ]
  },
  {
   "cell_type": "code",
   "execution_count": 27,
   "metadata": {},
   "outputs": [
    {
     "name": "stdout",
     "output_type": "stream",
     "text": [
      "Enter the correct month\n"
     ]
    }
   ],
   "source": [
    "# Write a function called check-season,\n",
    "# it takes a month parameter and returns the season: Autumn, Winter, Spring or Summer.\n",
    "\n",
    "def check_season():\n",
    "    month = (input('Enter the month name')).capitalize()\n",
    "    Autumn = ['January','February','March']\n",
    "    winter = ['April','May','June']\n",
    "    spring = ['July','August','September']\n",
    "    summer = ['October','November','December']\n",
    "    if month in Autumn:\n",
    "        print(\"The {} month comes in Autumn Season\".format(month))\n",
    "    elif month in winter:\n",
    "        print(\"The {} month comes in Winter Season\".format(month))\n",
    "    elif month in spring:\n",
    "        print(\"The {} month comes in Spring Season\".format(month))\n",
    "    elif month in summer:\n",
    "        print(\"The {} month comes in Summer Season\".format(month))\n",
    "    else:\n",
    "        print('Enter the correct month')\n",
    "check_season()\n",
    "\n",
    "    \n",
    "        \n"
   ]
  },
  {
   "cell_type": "code",
   "execution_count": 31,
   "metadata": {},
   "outputs": [
    {
     "name": "stdout",
     "output_type": "stream",
     "text": [
      "1\n",
      "suraj\n",
      "lalit\n",
      "3\n",
      "r\n"
     ]
    }
   ],
   "source": [
    "# Declare a function named print_list. It takes a list as a parameter\n",
    "# and it prints out each element of the list.\n",
    "\n",
    "def print_list():\n",
    "    Input = int(input('Enter how many item you want to add in list: '))\n",
    "    List = []\n",
    "    for i in range(Input):\n",
    "        i = input()\n",
    "        List.append(i)\n",
    "        print(i)\n",
    "print_list()\n",
    "    \n"
   ]
  },
  {
   "cell_type": "code",
   "execution_count": 24,
   "metadata": {},
   "outputs": [
    {
     "name": "stdout",
     "output_type": "stream",
     "text": [
      "[6, 5, 4, 3, 2, 1]\n"
     ]
    }
   ],
   "source": [
    "# Declare a function named reverse_list.\n",
    "# It takes an array as a parameter and it returns the reverse of the array (use loops).\n",
    "\n",
    "def reverse_list(x):\n",
    "    x.reverse()\n",
    "    \n",
    "    \n",
    "    return x\n",
    "lis= [1,2,3,4,5,6]\n",
    "print(reverse_list(lis))\n",
    "\n",
    "\n",
    "\n"
   ]
  },
  {
   "cell_type": "code",
   "execution_count": 25,
   "metadata": {},
   "outputs": [
    {
     "name": "stdout",
     "output_type": "stream",
     "text": [
      "[1, 2, 3, 5, 258]\n"
     ]
    }
   ],
   "source": [
    "# Declare a function named add_item. It takes a list and an item parameters.\n",
    "# It returns a list with the item added at the end.\n",
    "\n",
    "def add_item(item,list):\n",
    "    list.append(item)\n",
    "    return list\n",
    "\n",
    "l = [1,2,3,5]\n",
    "p = 258\n",
    "print(add_item(p,l))\n"
   ]
  },
  {
   "cell_type": "code",
   "execution_count": 40,
   "metadata": {},
   "outputs": [
    {
     "name": "stdout",
     "output_type": "stream",
     "text": [
      "['A', 'B', 'C']\n"
     ]
    }
   ],
   "source": [
    "# Declare a function named capitalize_list_items.\n",
    "# # It takes a list as a parameter and it returns a capitalized list of items\n",
    "\n",
    "def capitalize_list_items(x):\n",
    "    capitalize_list = []\n",
    "    for i in x:\n",
    "        capitalize_list.append(i.capitalize())\n",
    "    return(capitalize_list)\n",
    "list1= ['a','b','c']\n",
    "print(capitalize_list_items(list1))\n",
    "\n",
    "\n"
   ]
  },
  {
   "cell_type": "code",
   "execution_count": 37,
   "metadata": {},
   "outputs": [
    {
     "name": "stdout",
     "output_type": "stream",
     "text": [
      "A\n",
      "B\n",
      "C\n"
     ]
    }
   ],
   "source": [
    "def cap_list(x):\n",
    "    for i in x:\n",
    "        print(i.capitalize())\n",
    "list1 = ['a','b','c']\n",
    "cap_list(list1)"
   ]
  },
  {
   "cell_type": "code",
   "execution_count": 51,
   "metadata": {},
   "outputs": [
    {
     "name": "stdout",
     "output_type": "stream",
     "text": [
      "9\n"
     ]
    }
   ],
   "source": [
    "# Declare a function named sum_of_odds.\n",
    "# It takes a number parameter and it adds all the odd numbers in that range.\n",
    "def sum_of_odds(num):\n",
    "    sum =  0\n",
    "    for i in range(num+1):\n",
    "        if i%2==1:\n",
    "            sum = sum+i\n",
    "        else:\n",
    "            continue\n",
    "        \n",
    "    print(sum)\n",
    "sum_of_odds(6)\n",
    "\n",
    "\n"
   ]
  },
  {
   "cell_type": "code",
   "execution_count": 23,
   "metadata": {},
   "outputs": [
    {
     "name": "stdout",
     "output_type": "stream",
     "text": [
      "[0, 2, 4, 6, 8, 10]  =  30\n"
     ]
    }
   ],
   "source": [
    "# Declare a function named sum_of_even.\n",
    "# It takes a number parameter and it adds all the even numbers in that - range.\n",
    "\n",
    "\n",
    "def sum_of_even(num):\n",
    "    sum = 0\n",
    "    numbers = []\n",
    "    for i in range(num+1):\n",
    "        if i%2==0:\n",
    "            numbers.append(i)\n",
    "            sum = sum+i\n",
    "    print(numbers,' = ',sum)\n",
    "sum_of_even(10)\n"
   ]
  },
  {
   "cell_type": "code",
   "execution_count": 19,
   "metadata": {},
   "outputs": [
    {
     "name": "stdout",
     "output_type": "stream",
     "text": [
      "3\n"
     ]
    }
   ],
   "source": [
    "# Call your function factorial, it takes a whole number as a parameter and it return a factorial of the number\n",
    "\n",
    "# factorial means if we take a number = 4 then 1*2= 2\n",
    "def factorial():\n",
    "    fact = 1\n",
    "\n",
    "    n = int((input()).strip())\n",
    "    for i in range(1,n):\n",
    "        #a = i*i\n",
    "        factorial = i*fact\n",
    "    print(factorial)\n",
    "factorial()\n",
    "\n",
    "\n"
   ]
  },
  {
   "cell_type": "code",
   "execution_count": 18,
   "metadata": {},
   "outputs": [
    {
     "name": "stdout",
     "output_type": "stream",
     "text": [
      "Factorial for the given number is  24\n"
     ]
    }
   ],
   "source": [
    "def factorial(n):\n",
    "    fact = 1\n",
    "    for i in range(1,n+1):\n",
    "        fact = fact * i\n",
    "    print('Factorial for the given number is ',fact)\n",
    "factorial(4)        "
   ]
  },
  {
   "cell_type": "code",
   "execution_count": null,
   "metadata": {},
   "outputs": [],
   "source": []
  }
 ],
 "metadata": {
  "kernelspec": {
   "display_name": "Python 3.10.5 64-bit",
   "language": "python",
   "name": "python3"
  },
  "language_info": {
   "codemirror_mode": {
    "name": "ipython",
    "version": 3
   },
   "file_extension": ".py",
   "mimetype": "text/x-python",
   "name": "python",
   "nbconvert_exporter": "python",
   "pygments_lexer": "ipython3",
   "version": "3.10.5"
  },
  "orig_nbformat": 4,
  "vscode": {
   "interpreter": {
    "hash": "26de051ba29f2982a8de78e945f0abaf191376122a1563185a90213a26c5da77"
   }
  }
 },
 "nbformat": 4,
 "nbformat_minor": 2
}
