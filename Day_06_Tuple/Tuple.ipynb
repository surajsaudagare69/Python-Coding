{
 "cells": [
  {
   "cell_type": "code",
   "execution_count": 1,
   "metadata": {},
   "outputs": [],
   "source": [
    "tuple1 = tuple()\n"
   ]
  },
  {
   "cell_type": "code",
   "execution_count": 1,
   "metadata": {},
   "outputs": [
    {
     "name": "stdout",
     "output_type": "stream",
     "text": [
      "<class 'tuple'>\n"
     ]
    }
   ],
   "source": [
    "tuple2 = ()\n",
    "print(type(tuple2))"
   ]
  },
  {
   "cell_type": "code",
   "execution_count": 4,
   "metadata": {},
   "outputs": [],
   "source": [
    "friends = ('suraj','lalit','swapnil','nilesh')\n",
    "friends2 = ('bharat','harshad','Adil','amir')"
   ]
  },
  {
   "cell_type": "code",
   "execution_count": 6,
   "metadata": {},
   "outputs": [
    {
     "name": "stdout",
     "output_type": "stream",
     "text": [
      "('suraj', 'lalit', 'swapnil', 'nilesh', 'bharat', 'harshad', 'Adil', 'amir')\n",
      "I have 8 no of friends\n"
     ]
    }
   ],
   "source": [
    "bestfriends = friends+friends2 # joining of two tuple\n",
    "print(bestfriends)\n",
    "print('I have {} no of friends'.format(len(bestfriends)))"
   ]
  },
  {
   "cell_type": "code",
   "execution_count": 7,
   "metadata": {},
   "outputs": [
    {
     "name": "stdout",
     "output_type": "stream",
     "text": [
      "('praful', 'sangita', 'suraj', 'lalit', 'swapnil', 'nilesh', 'bharat', 'harshad', 'Adil', 'amir')\n"
     ]
    }
   ],
   "source": [
    "family = ('praful','sangita')\n",
    "family_members = family+bestfriends\n",
    "print(family_members)"
   ]
  },
  {
   "cell_type": "code",
   "execution_count": 12,
   "metadata": {},
   "outputs": [],
   "source": [
    "brother,mother,*mitraparivar = family_members #unpackaging of tuple"
   ]
  },
  {
   "cell_type": "code",
   "execution_count": 9,
   "metadata": {},
   "outputs": [
    {
     "name": "stdout",
     "output_type": "stream",
     "text": [
      "praful\n"
     ]
    }
   ],
   "source": [
    "print(brother)"
   ]
  },
  {
   "cell_type": "code",
   "execution_count": 13,
   "metadata": {},
   "outputs": [
    {
     "name": "stdout",
     "output_type": "stream",
     "text": [
      "['suraj', 'lalit', 'swapnil', 'nilesh', 'bharat', 'harshad', 'Adil', 'amir']\n"
     ]
    }
   ],
   "source": [
    "print(mitraparivar)"
   ]
  },
  {
   "cell_type": "code",
   "execution_count": 15,
   "metadata": {},
   "outputs": [
    {
     "name": "stdout",
     "output_type": "stream",
     "text": [
      "['suraj', 'lalit', 'swapnil', 'nilesh', 'bharat', 'harshad', 'Adil', 'amir']\n"
     ]
    }
   ],
   "source": [
    "friendslist = list(bestfriends)\n",
    "print(bestfriends)"
   ]
  },
  {
   "cell_type": "code",
   "execution_count": 16,
   "metadata": {},
   "outputs": [
    {
     "name": "stdout",
     "output_type": "stream",
     "text": [
      "The middle no of friendslist is  4\n",
      "The middle one person is  bharat\n"
     ]
    }
   ],
   "source": [
    "middle_item = (len(friendslist))//2\n",
    "print('The middle no of friendslist is ',middle_item)\n",
    "print('The middle one person is ',friendslist[middle_item])"
   ]
  },
  {
   "cell_type": "code",
   "execution_count": 18,
   "metadata": {},
   "outputs": [
    {
     "name": "stdout",
     "output_type": "stream",
     "text": [
      "['nilesh', 'bharat']\n"
     ]
    }
   ],
   "source": [
    "print(bestfriends[3:5])"
   ]
  },
  {
   "cell_type": "code",
   "execution_count": null,
   "metadata": {},
   "outputs": [],
   "source": []
  }
 ],
 "metadata": {
  "kernelspec": {
   "display_name": "Python 3.10.5 64-bit",
   "language": "python",
   "name": "python3"
  },
  "language_info": {
   "codemirror_mode": {
    "name": "ipython",
    "version": 3
   },
   "file_extension": ".py",
   "mimetype": "text/x-python",
   "name": "python",
   "nbconvert_exporter": "python",
   "pygments_lexer": "ipython3",
   "version": "3.10.5"
  },
  "orig_nbformat": 4,
  "vscode": {
   "interpreter": {
    "hash": "26de051ba29f2982a8de78e945f0abaf191376122a1563185a90213a26c5da77"
   }
  }
 },
 "nbformat": 4,
 "nbformat_minor": 2
}
