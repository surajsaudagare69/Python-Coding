{
 "cells": [
  {
   "cell_type": "markdown",
   "metadata": {},
   "source": [
    "# Higher Order Functions\n",
    "- Handling functions as parameters\n",
    "- Returning functions as return value from another functions\n",
    "- Using Python closures and decorators"
   ]
  },
  {
   "cell_type": "code",
   "execution_count": 1,
   "metadata": {},
   "outputs": [
    {
     "name": "stdout",
     "output_type": "stream",
     "text": [
      "15\n"
     ]
    }
   ],
   "source": [
    "#Function as a paramater\n",
    "def sum_numbers(num):\n",
    "    return sum(num)\n",
    "def higher_order_function(f,lst):  # function as a parameter\n",
    "    sumation = f(lst)\n",
    "    return sumation\n",
    "result = higher_order_function(sum_numbers,[1,2,3,4,5])\n",
    "print(result)\n"
   ]
  },
  {
   "cell_type": "code",
   "execution_count": 8,
   "metadata": {},
   "outputs": [
    {
     "name": "stdout",
     "output_type": "stream",
     "text": [
      "9\n",
      "512\n",
      "4\n"
     ]
    }
   ],
   "source": [
    "# Function as a return value\n",
    "def sqare(x):\n",
    "    return x**2\n",
    "def cube(x):\n",
    "    return x**3\n",
    "def absolute(x):\n",
    "    if x >= 0:\n",
    "        return x\n",
    "    else:\n",
    "        return -(x)\n",
    "def higher_order_function(type):\n",
    "    if type == 'sqare':\n",
    "        return sqare\n",
    "    if type == 'cube':\n",
    "        return cube\n",
    "    if type == 'absolute':\n",
    "        return absolute\n",
    "\n",
    "result = higher_order_function('sqare')\n",
    "print(result(3))\n",
    "result = higher_order_function('cube')\n",
    "print(result(8))\n",
    "result = higher_order_function('absolute')\n",
    "print(result(4))\n",
    "\n",
    "\n",
    "\n",
    "\n"
   ]
  },
  {
   "cell_type": "code",
   "execution_count": null,
   "metadata": {},
   "outputs": [],
   "source": [
    "# python Closure\n",
    "def add_ten():\n",
    "    ten = 10\n",
    "    def add(num):\n",
    "        return num + ten\n",
    "    return add\n",
    "\n"
   ]
  }
 ],
 "metadata": {
  "kernelspec": {
   "display_name": "Python 3.10.5 64-bit",
   "language": "python",
   "name": "python3"
  },
  "language_info": {
   "codemirror_mode": {
    "name": "ipython",
    "version": 3
   },
   "file_extension": ".py",
   "mimetype": "text/x-python",
   "name": "python",
   "nbconvert_exporter": "python",
   "pygments_lexer": "ipython3",
   "version": "3.10.5"
  },
  "orig_nbformat": 4,
  "vscode": {
   "interpreter": {
    "hash": "26de051ba29f2982a8de78e945f0abaf191376122a1563185a90213a26c5da77"
   }
  }
 },
 "nbformat": 4,
 "nbformat_minor": 2
}
