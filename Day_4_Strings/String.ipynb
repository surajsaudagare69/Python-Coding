{
 "cells": [
  {
   "cell_type": "markdown",
   "metadata": {},
   "source": [
    "# String"
   ]
  },
  {
   "cell_type": "markdown",
   "metadata": {},
   "source": []
  },
  {
   "cell_type": "code",
   "execution_count": 1,
   "metadata": {},
   "outputs": [
    {
     "name": "stdout",
     "output_type": "stream",
     "text": [
      "I hope you enjoy 30 days of python challange\n"
     ]
    }
   ],
   "source": [
    "string = 'I hope you enjoy 30 days of python challange' # this text in signle quote is called string\n",
    "print(string)"
   ]
  },
  {
   "cell_type": "code",
   "execution_count": 2,
   "metadata": {},
   "outputs": [
    {
     "data": {
      "text/plain": [
       "44"
      ]
     },
     "execution_count": 2,
     "metadata": {},
     "output_type": "execute_result"
    }
   ],
   "source": [
    "len(string) # len function to check the length of string"
   ]
  },
  {
   "cell_type": "code",
   "execution_count": 4,
   "metadata": {},
   "outputs": [
    {
     "name": "stdout",
     "output_type": "stream",
     "text": [
      "I hope you all are enjoying the 30 days of challenge  \n",
      "but you need to practice it\n"
     ]
    }
   ],
   "source": [
    "Multiline_string= '''I hope you all are enjoying the 30 days of challenge  \n",
    "but you need to practice it'''      # for multiple line string we use triple single or\n",
    "print(Multiline_string)                                   #  double quotes.    "
   ]
  },
  {
   "cell_type": "markdown",
   "metadata": {},
   "source": [
    "String Concatenation"
   ]
  },
  {
   "cell_type": "code",
   "execution_count": 5,
   "metadata": {},
   "outputs": [
    {
     "name": "stdout",
     "output_type": "stream",
     "text": [
      "Suraj Jalandar Saudagare\n"
     ]
    }
   ],
   "source": [
    "# merging or connecting string is called concatenation\n",
    "first_name = 'Suraj'\n",
    "Middle_name = 'Jalandar'\n",
    "Last_name = 'Saudagare'\n",
    "space = ' '\n",
    "Full_Name = first_name + space + Middle_name + space + Last_name # adding string\n",
    "print(Full_Name)"
   ]
  },
  {
   "cell_type": "markdown",
   "metadata": {},
   "source": [
    "In Python and other programming languages \\ followed by a character is an escape sequence. Let us see the most common escape characters:\n",
    "\n",
    "- \\n: new line\n",
    "- \\t: Tab means(8 spaces) \n",
    "- \\\\: Back slash\n",
    "- \\\\': Single quote (')\n",
    "- \\\\\": Double quote (\")"
   ]
  },
  {
   "cell_type": "markdown",
   "metadata": {},
   "source": []
  },
  {
   "cell_type": "code",
   "execution_count": 6,
   "metadata": {},
   "outputs": [
    {
     "name": "stdout",
     "output_type": "stream",
     "text": [
      "i hope everyone is enjoying python challenge. \n",
      "Are you?\n"
     ]
    }
   ],
   "source": [
    "print('i hope everyone is enjoying python challenge. \\nAre you?')"
   ]
  },
  {
   "cell_type": "code",
   "execution_count": 12,
   "metadata": {},
   "outputs": [
    {
     "name": "stdout",
     "output_type": "stream",
     "text": [
      "day\tTopics\tExercises\t123\t258\n"
     ]
    }
   ],
   "source": [
    "print('day\\tTopics\\tExercises\\t123\\t258')"
   ]
  },
  {
   "cell_type": "code",
   "execution_count": 19,
   "metadata": {},
   "outputs": [
    {
     "name": "stdout",
     "output_type": "stream",
     "text": [
      "this is backslash symbol (\\)\n",
      "this is single quote symbol (')\n",
      "this is double quote symbol (\")\n",
      "in every programming language we use \"hello world\"\n",
      "in every programming language we use \"hello world\"\n"
     ]
    }
   ],
   "source": [
    "print('this is backslash symbol (\\\\)')\n",
    "print('this is single quote symbol (\\')')\n",
    "print('this is double quote symbol (\\\")')\n",
    "print('in every programming language we use \\\"hello world\\\"')\n",
    "print('''in every programming language we use \"hello world\"''')# we can use single or double quote by giving string in triple quote"
   ]
  },
  {
   "cell_type": "markdown",
   "metadata": {},
   "source": [
    "String Formating"
   ]
  },
  {
   "cell_type": "markdown",
   "metadata": {},
   "source": [
    "- %s - String (or any object with a string representation, like numbers)\n",
    "- %d - Integers\n",
    "- %f - Floating point numbers\n",
    "- \"%.number of digitsf\" - Floating point numbers with fixed precision"
   ]
  },
  {
   "cell_type": "code",
   "execution_count": 22,
   "metadata": {},
   "outputs": [
    {
     "name": "stdout",
     "output_type": "stream",
     "text": [
      "I am Suraj Saudagare. I am learning Python.\n"
     ]
    }
   ],
   "source": [
    "first_name = input('Enter the first name: ')\n",
    "last_name = input('Enter the last name: ')\n",
    "coarse = input('Enter coarse name: ')\n",
    "formated_string= 'I am %s %s. I am learning %s.'%(first_name,last_name,coarse)\n",
    "print(formated_string)"
   ]
  },
  {
   "cell_type": "code",
   "execution_count": 14,
   "metadata": {},
   "outputs": [
    {
     "name": "stdout",
     "output_type": "stream",
     "text": [
      "The area of circle of radius 10 is 314.000\n"
     ]
    }
   ],
   "source": [
    "radius = 10\n",
    "pi = 3.14\n",
    "area = pi * radius ** 2\n",
    "formated_string = 'The area of circle of radius %d is %.3f' %(radius,area)\n",
    "\n",
    "print(formated_string)"
   ]
  },
  {
   "cell_type": "code",
   "execution_count": 1,
   "metadata": {},
   "outputs": [
    {
     "name": "stdout",
     "output_type": "stream",
     "text": [
      "2\n"
     ]
    }
   ],
   "source": [
    "\n",
    "\n",
    "\n",
    "p = {1:6,2:5,3:4,4:3,5:2,6:1}\n",
    "a,b,c,d,e,g = p\n",
    "print(b)"
   ]
  },
  {
   "cell_type": "code",
   "execution_count": 4,
   "metadata": {},
   "outputs": [
    {
     "name": "stdout",
     "output_type": "stream",
     "text": [
      "Thirty days of python\n"
     ]
    }
   ],
   "source": [
    "challenge = 'thirty days of python'\n",
    "print(challenge.capitalize()) # 'Thirty days of python'"
   ]
  },
  {
   "cell_type": "markdown",
   "metadata": {},
   "source": [
    "String Methods"
   ]
  },
  {
   "cell_type": "code",
   "execution_count": 6,
   "metadata": {},
   "outputs": [
    {
     "name": "stdout",
     "output_type": "stream",
     "text": [
      "The challenge accepted\n",
      "30 days of python\n"
     ]
    }
   ],
   "source": [
    "# capitalize\n",
    "\n",
    "string = 'the challenge accepted'\n",
    "print(string.capitalize())\n",
    "\n",
    "string2 = '30 days of python'\n",
    "print(string2.capitalize())   # if string start with number then capitalize dosnt work on it."
   ]
  },
  {
   "cell_type": "code",
   "execution_count": 10,
   "metadata": {},
   "outputs": [
    {
     "name": "stdout",
     "output_type": "stream",
     "text": [
      "2\n",
      "1\n",
      "0\n",
      "1\n"
     ]
    }
   ],
   "source": [
    "# count\n",
    "challenge = '30 days of python challeange'\n",
    "print(challenge.count('y')) # count the substring in string\n",
    "print(challenge.count('y',7)) # count the substring from 7th position\n",
    "print(challenge.count('y',7,11)) # count the substring from 7th position to 11th.\n",
    "print(challenge.count('th'))"
   ]
  },
  {
   "cell_type": "code",
   "execution_count": 13,
   "metadata": {},
   "outputs": [
    {
     "name": "stdout",
     "output_type": "stream",
     "text": [
      "True\n",
      "is coarse endswith thon -  False\n"
     ]
    }
   ],
   "source": [
    "# endswith\n",
    "coarse = 'pythona and sql'\n",
    "print(coarse.endswith('ql'))\n",
    "print('is coarse endswith thon - ',coarse.endswith('thon'))"
   ]
  },
  {
   "cell_type": "code",
   "execution_count": 16,
   "metadata": {},
   "outputs": [
    {
     "name": "stdout",
     "output_type": "stream",
     "text": [
      "3\n",
      "-1\n"
     ]
    }
   ],
   "source": [
    "# Find\n",
    "\n",
    "string = '30 days of python'\n",
    "print(string.find('d')) # find the position of substring in string\n",
    "print(string.find('z')) # if the substring is not available in string then it wont give error it gives -1 position"
   ]
  },
  {
   "cell_type": "code",
   "execution_count": 19,
   "metadata": {},
   "outputs": [
    {
     "name": "stdout",
     "output_type": "stream",
     "text": [
      "18\n",
      "0\n"
     ]
    }
   ],
   "source": [
    "# rfind\n",
    "\n",
    "string1 = 'the moon is not a moon'\n",
    "print(string1.rfind('moon')) # it search the substring from right side of string and return the position of string\n",
    "print(string1.rfind('the'))"
   ]
  },
  {
   "cell_type": "code",
   "execution_count": 21,
   "metadata": {},
   "outputs": [
    {
     "name": "stdout",
     "output_type": "stream",
     "text": [
      "24\n"
     ]
    },
    {
     "ename": "ValueError",
     "evalue": "substring not found",
     "output_type": "error",
     "traceback": [
      "\u001b[1;31m---------------------------------------------------------------------------\u001b[0m",
      "\u001b[1;31mValueError\u001b[0m                                Traceback (most recent call last)",
      "\u001b[1;32me:\\Data Scientist program\\Python Practice\\30 days of python practice\\Day_4_Strings\\String.ipynb Cell 25\u001b[0m in \u001b[0;36m<cell line: 5>\u001b[1;34m()\u001b[0m\n\u001b[0;32m      <a href='vscode-notebook-cell:/e%3A/Data%20Scientist%20program/Python%20Practice/30%20days%20of%20python%20practice/Day_4_Strings/String.ipynb#X34sZmlsZQ%3D%3D?line=2'>3</a>\u001b[0m find_index \u001b[39m=\u001b[39m \u001b[39m'\u001b[39m\u001b[39m30 days of challenge in 50 days\u001b[39m\u001b[39m'\u001b[39m\n\u001b[0;32m      <a href='vscode-notebook-cell:/e%3A/Data%20Scientist%20program/Python%20Practice/30%20days%20of%20python%20practice/Day_4_Strings/String.ipynb#X34sZmlsZQ%3D%3D?line=3'>4</a>\u001b[0m \u001b[39mprint\u001b[39m(find_index\u001b[39m.\u001b[39mindex(\u001b[39m'\u001b[39m\u001b[39m5\u001b[39m\u001b[39m'\u001b[39m)) \u001b[39m# give the position of substring in string like find\u001b[39;00m\n\u001b[1;32m----> <a href='vscode-notebook-cell:/e%3A/Data%20Scientist%20program/Python%20Practice/30%20days%20of%20python%20practice/Day_4_Strings/String.ipynb#X34sZmlsZQ%3D%3D?line=4'>5</a>\u001b[0m \u001b[39mprint\u001b[39m(find_index\u001b[39m.\u001b[39;49mindex(\u001b[39m'\u001b[39;49m\u001b[39mz\u001b[39;49m\u001b[39m'\u001b[39;49m))\n",
      "\u001b[1;31mValueError\u001b[0m: substring not found"
     ]
    }
   ],
   "source": [
    "# index\n",
    "\n",
    "find_index = '30 days of challenge in 50 days'\n",
    "print(find_index.index('5')) # give the position of substring in string like find\n",
    "print(find_index.index('z'))  # if substring not found then it will give error that substring not found."
   ]
  },
  {
   "cell_type": "code",
   "execution_count": 23,
   "metadata": {},
   "outputs": [
    {
     "name": "stdout",
     "output_type": "stream",
     "text": [
      "18\n",
      "4\n"
     ]
    }
   ],
   "source": [
    "# rindex\n",
    "index_string = 'the moon is not a moon'\n",
    "print(index_string.rindex('moon')) # find the position of substring from right\n",
    "print(index_string.rindex('moon',0,20)) # find the position of substring within given range start and end position.\n"
   ]
  },
  {
   "cell_type": "code",
   "execution_count": 3,
   "metadata": {},
   "outputs": [
    {
     "name": "stdout",
     "output_type": "stream",
     "text": [
      "True\n",
      "False\n",
      "False\n",
      "True\n"
     ]
    }
   ],
   "source": [
    "# isalnum ==  only check for alphabets and numeric character. special character or space gives false value\n",
    "alpha = '30daysofchalleng'\n",
    "string = '30 days of python' # space and special character is not a alha numeric charachter\n",
    "string1 = 'thirty # days of python'\n",
    "string2 = '30daysofpython'\n",
    "print(alpha.isalnum())\n",
    "print(string.isalnum())\n",
    "print(string1.isalnum())\n",
    "print(string2.isalnum())"
   ]
  },
  {
   "cell_type": "code",
   "execution_count": 4,
   "metadata": {},
   "outputs": [
    {
     "name": "stdout",
     "output_type": "stream",
     "text": [
      "is alpha containing all alphabetical characters  False\n",
      "is alpha1 containing all alphabetical characters  True\n"
     ]
    }
   ],
   "source": [
    "# isalpha----- only check for alphabets.  Numeric,special character or space gives false value\n",
    "alpha = '30daysofchalleng'\n",
    "alpha1 = 'daysofchallenge'\n",
    "print('is alpha containing all alphabetical characters ',alpha.isalpha()) # only check for alphabets\n",
    "print('is alpha1 containing all alphabetical characters ',alpha1.isalpha()) "
   ]
  },
  {
   "cell_type": "code",
   "execution_count": 4,
   "metadata": {},
   "outputs": [
    {
     "name": "stdout",
     "output_type": "stream",
     "text": [
      "True\n",
      "False\n"
     ]
    }
   ],
   "source": [
    "# isdecimal ---> check all characters in string are decimal. (0-9)\n",
    "decimal = '30' # 30.00 gives false\n",
    "decimal1 = 'thirty'\n",
    "print(decimal.isdecimal())\n",
    "print(decimal1.isdecimal())"
   ]
  },
  {
   "cell_type": "code",
   "execution_count": 44,
   "metadata": {},
   "outputs": [
    {
     "name": "stdout",
     "output_type": "stream",
     "text": [
      "HTML*PYTHON*SQL*POWEBI\n"
     ]
    }
   ],
   "source": [
    "# join ----> it is apply on list and join the items of list (must be string) in a string\n",
    "\n",
    "list_of_coarse = ['HTML','PYTHON','SQL','POWEBI']\n",
    "result = '*'.join(list_of_coarse)  # \"*\" use to join the items. generaly we use space (' ') for join\n",
    "print(result)\n"
   ]
  },
  {
   "cell_type": "code",
   "execution_count": 45,
   "metadata": {},
   "outputs": [
    {
     "name": "stdout",
     "output_type": "stream",
     "text": [
      " is not a \n"
     ]
    }
   ],
   "source": [
    "# strip ---> removes the given subsring from begining and ending of string\n",
    "string = 'moon is not a moon'\n",
    "print(string.strip('moon')) # use to removes unnecessary spaces form string."
   ]
  },
  {
   "cell_type": "code",
   "execution_count": 6,
   "metadata": {},
   "outputs": [
    {
     "name": "stdout",
     "output_type": "stream",
     "text": [
      "['moon', 'is', 'not', '', 'a', 'moon']\n"
     ]
    }
   ],
   "source": [
    "# split ----> split the stirng into list using separator.\n",
    "\n",
    "string = 'moon is not  a moon' # it separated by space hence it also spit the extra space after \"not\" and add in list\n",
    "result = string.split(' ') # separator must be present in list such as space or comma (,) or any text.\n",
    "print(result)"
   ]
  },
  {
   "cell_type": "code",
   "execution_count": 8,
   "metadata": {},
   "outputs": [
    {
     "name": "stdout",
     "output_type": "stream",
     "text": [
      "True\n",
      "False\n"
     ]
    }
   ],
   "source": [
    "string = '30'\n",
    "string1 = '1\\2'\n",
    "print(string.isnumeric())\n",
    "print(string1.isnumeric())"
   ]
  },
  {
   "cell_type": "code",
   "execution_count": 9,
   "metadata": {},
   "outputs": [
    {
     "name": "stdout",
     "output_type": "stream",
     "text": [
      "True\n"
     ]
    }
   ],
   "source": [
    "challenge = '_python'\n",
    "print(challenge.isidentifier())"
   ]
  },
  {
   "cell_type": "code",
   "execution_count": 18,
   "metadata": {},
   "outputs": [
    {
     "name": "stdout",
     "output_type": "stream",
     "text": [
      "coading is future coading\n"
     ]
    }
   ],
   "source": [
    "# replace\n",
    "rep_string = 'python is future python'\n",
    "print(rep_string.replace('python','coading'))"
   ]
  },
  {
   "cell_type": "code",
   "execution_count": 21,
   "metadata": {},
   "outputs": [
    {
     "name": "stdout",
     "output_type": "stream",
     "text": [
      "thirty days of python\n"
     ]
    }
   ],
   "source": [
    "# Concatenate the string 'Thirty', 'Days', 'Of', 'Python' to a single string, 'Thirty Days Of Python'.\n",
    "\n",
    "t,d,o,p,s= 'thirty','days','of','python',' '\n",
    "print(t+s+d+s+o+s+p)"
   ]
  },
  {
   "cell_type": "code",
   "execution_count": 22,
   "metadata": {},
   "outputs": [
    {
     "name": "stdout",
     "output_type": "stream",
     "text": [
      "coading for all\n"
     ]
    }
   ],
   "source": [
    "# Concatenate the string 'Coding', 'For' , 'All' to a single string, 'Coding For All'.\n",
    "c,f,a,s='coading','for','all',' '\n",
    "print(c+s+f+s+a)"
   ]
  },
  {
   "cell_type": "code",
   "execution_count": 35,
   "metadata": {},
   "outputs": [
    {
     "name": "stdout",
     "output_type": "stream",
     "text": [
      "coading for all\n",
      "15\n"
     ]
    }
   ],
   "source": [
    "# Declare a variable named company and assign it to an initial value \"Coding For All\".\n",
    "# Print the variable company using print().\n",
    "# Print the length of the company string using len() method and print().\n",
    "company = \"coading for all\"\n",
    "print(company)\n",
    "print(len(company))"
   ]
  },
  {
   "cell_type": "code",
   "execution_count": 36,
   "metadata": {},
   "outputs": [
    {
     "name": "stdout",
     "output_type": "stream",
     "text": [
      "COADING FOR ALL\n"
     ]
    }
   ],
   "source": [
    "# Change all the characters to uppercase letters using upper() method.\n",
    "print(company.upper())"
   ]
  },
  {
   "cell_type": "code",
   "execution_count": 37,
   "metadata": {},
   "outputs": [
    {
     "name": "stdout",
     "output_type": "stream",
     "text": [
      "coading for all\n"
     ]
    }
   ],
   "source": [
    "# Change all the characters to lowercase letters using lower() method.\n",
    "print(company.lower())\n"
   ]
  },
  {
   "cell_type": "code",
   "execution_count": 38,
   "metadata": {},
   "outputs": [
    {
     "name": "stdout",
     "output_type": "stream",
     "text": [
      "this is title funciton -- Coading For All\n",
      "this is capitalize funciton -- Coading for all\n",
      "this is swapcase funciton -- COADING FOR ALL\n"
     ]
    }
   ],
   "source": [
    "# Use capitalize(), title(), swapcase() methods to format the value of the string Coding For All.\n",
    "print('this is title funciton --',company.title()) # change start character of every word into uppercase \n",
    "print('this is capitalize funciton --',company.capitalize()) # change only first character to uppercase\n",
    "print('this is swapcase funciton --',company.swapcase()) # convert uppercase to lowercase and viceversa"
   ]
  },
  {
   "cell_type": "code",
   "execution_count": 40,
   "metadata": {},
   "outputs": [
    {
     "name": "stdout",
     "output_type": "stream",
     "text": [
      "coading\n"
     ]
    }
   ],
   "source": [
    "# Cut(slice) out the first word of Coding For All string.\n",
    "print(company[0:7])"
   ]
  },
  {
   "cell_type": "code",
   "execution_count": 49,
   "metadata": {},
   "outputs": [
    {
     "name": "stdout",
     "output_type": "stream",
     "text": [
      "the position of word coading ussing find in string is  0\n",
      "the position of word coading ussing index in string is  0\n",
      "the position of word for ussing rfind in string is  8\n",
      "the position of word for ussing find in string is  8\n"
     ]
    }
   ],
   "source": [
    "# Check if Coding For All string contains a word Coding using the method index, find or other methods.\n",
    "print('the position of word coading ussing find in string is ',company.find('coading'))\n",
    "print('the position of word coading ussing index in string is ',company.index('coading'))\n",
    "print('the position of word for ussing rfind in string is ',company.rfind('for'))\n",
    "print('the position of word for ussing find in string is ',company.find('for'))\n"
   ]
  },
  {
   "cell_type": "code",
   "execution_count": 50,
   "metadata": {},
   "outputs": [
    {
     "name": "stdout",
     "output_type": "stream",
     "text": [
      "python for all\n"
     ]
    }
   ],
   "source": [
    "# Replace the word coding in the string 'Coding For All' to Python.\n",
    "print(company.replace('coading','python'))"
   ]
  },
  {
   "cell_type": "code",
   "execution_count": 52,
   "metadata": {},
   "outputs": [
    {
     "name": "stdout",
     "output_type": "stream",
     "text": [
      "python for all\n"
     ]
    }
   ],
   "source": [
    "# Change Python for Everyone to Python for All using the replace method or other methods.\n",
    "string = 'python for everyone'\n",
    "print(string.replace('everyone','all'))"
   ]
  },
  {
   "cell_type": "code",
   "execution_count": 53,
   "metadata": {},
   "outputs": [
    {
     "name": "stdout",
     "output_type": "stream",
     "text": [
      "['Coading', 'for', 'all']\n"
     ]
    }
   ],
   "source": [
    "# Split the string 'Coding For All' using space as the separator (split()) .\n",
    "string = 'Coading for all'\n",
    "print(string.split(' '))"
   ]
  },
  {
   "cell_type": "code",
   "execution_count": 32,
   "metadata": {},
   "outputs": [
    {
     "name": "stdout",
     "output_type": "stream",
     "text": [
      "thirty              days                of                  python\n",
      "thirty  days    of      python\n"
     ]
    }
   ],
   "source": [
    "challenge = 'thirty\\tdays\\tof\\tpython'\n",
    "print(challenge.expandtabs(20))   # 'thirty  days    of      python'\n",
    "print(challenge.expandtabs()) # 'thirty    days      of        python'"
   ]
  },
  {
   "cell_type": "code",
   "execution_count": 54,
   "metadata": {},
   "outputs": [
    {
     "name": "stdout",
     "output_type": "stream",
     "text": [
      "['Facebook', ' Google', ' Microsoft', ' Apple', ' IBM', ' Oracle', ' Amazon']\n"
     ]
    }
   ],
   "source": [
    "# \"Facebook, Google, Microsoft, Apple, IBM, Oracle, Amazon\" split the string at the comma.\n",
    "social_media = \"Facebook, Google, Microsoft, Apple, IBM, Oracle, Amazon\"\n",
    "print(social_media.split(','))"
   ]
  },
  {
   "cell_type": "code",
   "execution_count": 36,
   "metadata": {},
   "outputs": [
    {
     "name": "stdout",
     "output_type": "stream",
     "text": [
      "c\n",
      "13\n",
      "14\n",
      "14\n"
     ]
    }
   ],
   "source": [
    "# What is the character at index 0 in the string Coding For All.\n",
    "string = 'coading for all'\n",
    "print(string[0])\n",
    "print(string.index('l'))\n",
    "print(string.rindex('l'))\n",
    "print(len(string)-1)"
   ]
  },
  {
   "cell_type": "code",
   "execution_count": 39,
   "metadata": {},
   "outputs": [
    {
     "data": {
      "text/plain": [
       "False"
      ]
     },
     "execution_count": 39,
     "metadata": {},
     "output_type": "execute_result"
    }
   ],
   "source": [
    "string.endswith('all')\n",
    "string.startswith('all')"
   ]
  },
  {
   "cell_type": "code",
   "execution_count": 40,
   "metadata": {},
   "outputs": [
    {
     "name": "stdout",
     "output_type": "stream",
     "text": [
      "coading for all\n"
     ]
    }
   ],
   "source": [
    "# '   Coding For All      '  , remove the left and right trailing spaces in the given string.\n",
    "string10 = '   Coading for All   '\n",
    "print(string.strip(' '))"
   ]
  },
  {
   "cell_type": "code",
   "execution_count": 41,
   "metadata": {},
   "outputs": [
    {
     "name": "stdout",
     "output_type": "stream",
     "text": [
      "False\n",
      "True\n"
     ]
    }
   ],
   "source": [
    "# Which one of the following variables return True when we use the method isidentifier():\n",
    "# 30DaysOfPython\n",
    "# thirty_days_of_pythonS\n",
    "string11 ='30daysofpython'\n",
    "string12= 'thirty_days_of_python'\n",
    "print(string11.isidentifier())\n",
    "print(string12.isidentifier())"
   ]
  },
  {
   "cell_type": "code",
   "execution_count": 42,
   "metadata": {},
   "outputs": [
    {
     "name": "stdout",
     "output_type": "stream",
     "text": [
      "Django#Flask#Bottle#Pyramid#Falcon\n"
     ]
    }
   ],
   "source": [
    "# The following list contains the names of some of python libraries: ['Django', 'Flask', 'Bottle', 'Pyramid', 'Falcon']. Join the list with a hash with space string.\n",
    "libraries = ['Django', 'Flask', 'Bottle', 'Pyramid', 'Falcon']\n",
    "print('#'.join(libraries))"
   ]
  },
  {
   "cell_type": "code",
   "execution_count": 47,
   "metadata": {},
   "outputs": [
    {
     "name": "stdout",
     "output_type": "stream",
     "text": [
      "I am enjoying this challenge.\\I just wonder \twhat\t is next\n"
     ]
    }
   ],
   "source": [
    "# Use the new line escape sequence to separate the following sentences.\n",
    "# I am enjoying this challenge.\n",
    "# I just wonder what is next.\n",
    "escape_sequence = \"I am enjoying this challenge.\\\\I just wonder \\twhat\\t is next\"\n",
    "print(escape_sequence)"
   ]
  },
  {
   "cell_type": "code",
   "execution_count": null,
   "metadata": {},
   "outputs": [],
   "source": []
  }
 ],
 "metadata": {
  "kernelspec": {
   "display_name": "Python 3.10.5 64-bit",
   "language": "python",
   "name": "python3"
  },
  "language_info": {
   "codemirror_mode": {
    "name": "ipython",
    "version": 3
   },
   "file_extension": ".py",
   "mimetype": "text/x-python",
   "name": "python",
   "nbconvert_exporter": "python",
   "pygments_lexer": "ipython3",
   "version": "3.10.5"
  },
  "orig_nbformat": 4,
  "vscode": {
   "interpreter": {
    "hash": "26de051ba29f2982a8de78e945f0abaf191376122a1563185a90213a26c5da77"
   }
  }
 },
 "nbformat": 4,
 "nbformat_minor": 2
}
