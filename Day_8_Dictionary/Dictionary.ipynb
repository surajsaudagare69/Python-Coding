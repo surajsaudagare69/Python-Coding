{
 "cells": [
  {
   "cell_type": "code",
   "execution_count": 2,
   "metadata": {},
   "outputs": [
    {
     "name": "stdout",
     "output_type": "stream",
     "text": [
      "<class 'dict'>\n"
     ]
    }
   ],
   "source": [
    "\n",
    "# Create an empty dictionary called dog\n",
    "Dog = {}\n",
    "print(type(Dog))"
   ]
  },
  {
   "cell_type": "code",
   "execution_count": 3,
   "metadata": {},
   "outputs": [
    {
     "name": "stdout",
     "output_type": "stream",
     "text": [
      "{'name': 'Bruno'}\n"
     ]
    }
   ],
   "source": [
    "# Add name, color, breed, legs, age to the dog dictionary\n",
    "Dog[\"name\"] = \"Bruno\"\n",
    "print(Dog)"
   ]
  },
  {
   "cell_type": "code",
   "execution_count": 4,
   "metadata": {},
   "outputs": [
    {
     "name": "stdout",
     "output_type": "stream",
     "text": [
      "{'name': 'Bruno', 'Color': 'White', 'Breed': 'Gawrani', 'Legs': 4, 'age': 2}\n"
     ]
    }
   ],
   "source": [
    "Dog['Color'] = 'White'\n",
    "Dog['Breed'] = 'Gawrani'\n",
    "Dog['Legs'] = 4\n",
    "Dog['age'] = 2\n",
    "print(Dog)"
   ]
  },
  {
   "cell_type": "code",
   "execution_count": 5,
   "metadata": {},
   "outputs": [
    {
     "name": "stdout",
     "output_type": "stream",
     "text": [
      "{'name': 'Bruno', 'Color': 'White', 'Breed': 'Gawrani', 'Legs': 4, 'age': 2}\n"
     ]
    }
   ],
   "source": [
    "print(Dog)"
   ]
  },
  {
   "cell_type": "code",
   "execution_count": 6,
   "metadata": {},
   "outputs": [
    {
     "name": "stdout",
     "output_type": "stream",
     "text": [
      "{'first_name': 'suraj', 'last_name': 'saudagare', 'gender': 'male', 'age': 29, 'marital status': 'unmarried', 'skills': ['dance', 'painting', 'acting'], 'country': 'India', 'city': 'Amravati', 'address': {'Locality': 'Adarsh neharu Nagar', 'Landmark': 'Near Maltekadi', 'city': 'Amravati'}}\n"
     ]
    }
   ],
   "source": [
    "# Create a student dictionary and add first_name, last_name, gender, age, marital status,\n",
    "# skills, country, city and address as keys for the dictionary\n",
    "\n",
    "student_dict = dict()\n",
    "student_dict['first_name']='suraj'\n",
    "student_dict['last_name']='saudagare'\n",
    "student_dict['gender']='male'\n",
    "student_dict['age']=29\n",
    "student_dict['marital status']='unmarried'\n",
    "student_dict['skills']=['dance','painting','acting']\n",
    "student_dict['country']='India'\n",
    "student_dict['city']='Amravati'\n",
    "student_dict['address']={'Locality':'Adarsh neharu Nagar',\"Landmark\":'Near Maltekadi','city':'Amravati'}\n",
    "print(student_dict)\n"
   ]
  },
  {
   "cell_type": "code",
   "execution_count": 7,
   "metadata": {},
   "outputs": [
    {
     "name": "stdout",
     "output_type": "stream",
     "text": [
      "9\n"
     ]
    }
   ],
   "source": [
    "# Get the length of the student dictionary\n",
    "print(len(student_dict))\n"
   ]
  },
  {
   "cell_type": "code",
   "execution_count": 8,
   "metadata": {},
   "outputs": [
    {
     "name": "stdout",
     "output_type": "stream",
     "text": [
      "<class 'list'>\n"
     ]
    }
   ],
   "source": [
    "# Get the value of skills and check the data type, it should be a list\n",
    "student_dict.get('skills')\n",
    "print(type(student_dict['skills']))"
   ]
  },
  {
   "cell_type": "code",
   "execution_count": 16,
   "metadata": {},
   "outputs": [
    {
     "name": "stdout",
     "output_type": "stream",
     "text": [
      "['dance', 'painting', 'acting', 'Smart', 'Smart', 'Handsome']\n"
     ]
    }
   ],
   "source": [
    "# Modify the skills values by adding one or two skills\n",
    "\n",
    "student_dict['skills'].append('Smart')\n",
    "student_dict['skills'].append('Handsome')\n",
    "print(student_dict['skills'])"
   ]
  },
  {
   "cell_type": "code",
   "execution_count": 9,
   "metadata": {},
   "outputs": [
    {
     "name": "stdout",
     "output_type": "stream",
     "text": [
      "{'first_name': 'suraj', 'last_name': 'saudagare', 'gender': 'male', 'age': 29, 'marital status': 'unmarried', 'skills': ['dance', 'painting', 'acting'], 'country': 'India', 'city': 'Amravati', 'address': {'Locality': 'Adarsh neharu Nagar', 'Landmark': 'Near Maltekadi', 'city': 'Amravati'}}\n"
     ]
    }
   ],
   "source": [
    "print(student_dict)"
   ]
  },
  {
   "cell_type": "code",
   "execution_count": 11,
   "metadata": {},
   "outputs": [
    {
     "name": "stdout",
     "output_type": "stream",
     "text": [
      "{'first_name': 'suraj', 'last_name': 'saudagare', 'gender': 'male', 'age': 29, 'skills': ['dance', 'painting', 'acting'], 'country': 'India', 'city': 'Amravati', 'address': {'Locality': 'Adarsh neharu Nagar', 'Landmark': 'Near Maltekadi', 'city': 'Amravati'}}\n"
     ]
    }
   ],
   "source": [
    "item = student_dict.pop('marital status')\n",
    "print(student_dict)"
   ]
  },
  {
   "cell_type": "code",
   "execution_count": 12,
   "metadata": {},
   "outputs": [
    {
     "name": "stdout",
     "output_type": "stream",
     "text": [
      "{'first_name': 'suraj', 'last_name': 'saudagare', 'gender': 'male', 'age': 29, 'skills': ['dance', 'painting', 'acting'], 'country': 'India', 'city': 'Amravati', 'address': {'Locality': 'Adarsh neharu Nagar', 'Landmark': 'Near Maltekadi', 'city': 'Amravati'}, 'marital status 2': 'unmarried'}\n"
     ]
    }
   ],
   "source": [
    "student_dict[\"marital status 2\"]=item\n",
    "print(student_dict)"
   ]
  },
  {
   "cell_type": "code",
   "execution_count": 13,
   "metadata": {},
   "outputs": [
    {
     "name": "stdout",
     "output_type": "stream",
     "text": [
      "{'first_name': 'suraj', 'last_name': 'saudagare', 'gender': 'male', 'age': 29, 'skills': ['dance', 'painting', 'acting'], 'country': 'India', 'city': 'Amravati', 'marital status 2': 'unmarried'}\n"
     ]
    }
   ],
   "source": [
    "item2 = student_dict.pop('address')\n",
    "print(student_dict)"
   ]
  },
  {
   "cell_type": "code",
   "execution_count": 14,
   "metadata": {},
   "outputs": [
    {
     "name": "stdout",
     "output_type": "stream",
     "text": [
      "{'first_name': 'suraj', 'last_name': 'saudagare', 'gender': 'male', 'age': 29, 'skills': ['dance', 'painting', 'acting'], 'country': 'India', 'city': 'Amravati', 'marital status 2': 'unmarried', 'Revised Address': {'Locality': 'Adarsh neharu Nagar', 'Landmark': 'Near Maltekadi', 'city': 'Amravati'}}\n"
     ]
    }
   ],
   "source": [
    "student_dict[\"Revised Address\"]=item2\n",
    "print(student_dict)"
   ]
  },
  {
   "cell_type": "code",
   "execution_count": null,
   "metadata": {},
   "outputs": [],
   "source": []
  }
 ],
 "metadata": {
  "kernelspec": {
   "display_name": "Python 3.10.5 64-bit",
   "language": "python",
   "name": "python3"
  },
  "language_info": {
   "codemirror_mode": {
    "name": "ipython",
    "version": 3
   },
   "file_extension": ".py",
   "mimetype": "text/x-python",
   "name": "python",
   "nbconvert_exporter": "python",
   "pygments_lexer": "ipython3",
   "version": "3.10.5"
  },
  "orig_nbformat": 4,
  "vscode": {
   "interpreter": {
    "hash": "26de051ba29f2982a8de78e945f0abaf191376122a1563185a90213a26c5da77"
   }
  }
 },
 "nbformat": 4,
 "nbformat_minor": 2
}
