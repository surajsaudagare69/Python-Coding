{
 "cells": [
  {
   "cell_type": "code",
   "execution_count": 4,
   "metadata": {},
   "outputs": [
    {
     "name": "stdout",
     "output_type": "stream",
     "text": [
      "tile dimag nahi\n"
     ]
    }
   ],
   "source": [
    "# Get user input using input(“Enter your age: ”). If user is 18 or older, \n",
    "# give feedback: You are old enough to drive. If below 18 give feedback to wait \n",
    "# for the missing amount of years. \n",
    "# Output:\n",
    "'''Enter your age: 30\n",
    "You are old enough to learn to drive.\n",
    "Output:\n",
    "Enter your age: 15\n",
    "You need 3 more years to learn to drive.'''\n",
    "\n",
    "user = int(input('Enter your age: '))\n",
    "if user>18:\n",
    "    print('apurva ajun lahan ahe ')\n",
    "else:\n",
    "    print('tile dimag nahi')"
   ]
  },
  {
   "cell_type": "code",
   "execution_count": 6,
   "metadata": {},
   "outputs": [],
   "source": [
    "# Compare the values of my_age and your_age using if … else.\n",
    "# Who is older (me or you)? Use input(“Enter your age: ”)\n",
    "# to get the age as input. You can use a nested condition to print\n",
    "# 'year' for 1 year difference in age, 'years' for bigger differences,\n",
    "# and a custom text if my_age = your_age.\n",
    "# Output:\n",
    "my_age = int(input('Enter My age: '))\n",
    "your_age = int(input('Enter your age: '))\n",
    "difference = my_age-your_age\n",
    "if difference == 1:\n",
    "    print('You are 1 year older than me')\n",
    "    if difference > 1 or difference:\n",
    "        print('You are {} older than me'.format(difference))"
   ]
  }
 ],
 "metadata": {
  "kernelspec": {
   "display_name": "Python 3.10.5 64-bit",
   "language": "python",
   "name": "python3"
  },
  "language_info": {
   "codemirror_mode": {
    "name": "ipython",
    "version": 3
   },
   "file_extension": ".py",
   "mimetype": "text/x-python",
   "name": "python",
   "nbconvert_exporter": "python",
   "pygments_lexer": "ipython3",
   "version": "3.10.5"
  },
  "orig_nbformat": 4,
  "vscode": {
   "interpreter": {
    "hash": "26de051ba29f2982a8de78e945f0abaf191376122a1563185a90213a26c5da77"
   }
  }
 },
 "nbformat": 4,
 "nbformat_minor": 2
}
