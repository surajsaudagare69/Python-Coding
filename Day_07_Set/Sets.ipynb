{
 "cells": [
  {
   "cell_type": "code",
   "execution_count": 2,
   "metadata": {},
   "outputs": [],
   "source": [
    "# sets\n",
    "it_companies = {'Facebook', 'Google', 'Microsoft', 'Apple', 'IBM', 'Oracle', 'Amazon'}\n",
    "\n"
   ]
  },
  {
   "cell_type": "code",
   "execution_count": 3,
   "metadata": {},
   "outputs": [
    {
     "name": "stdout",
     "output_type": "stream",
     "text": [
      "7\n"
     ]
    }
   ],
   "source": [
    "# Find the length of the set it_companies\n",
    "print(len(it_companies))"
   ]
  },
  {
   "cell_type": "code",
   "execution_count": 4,
   "metadata": {},
   "outputs": [
    {
     "name": "stdout",
     "output_type": "stream",
     "text": [
      "{'Facebook', 'IBM', 'Amazon', 'Apple', 'Twitter', 'Oracle', 'Google', 'Microsoft'}\n"
     ]
    }
   ],
   "source": [
    "# Add 'Twitter' to it_companies\n",
    "it_companies.add('Twitter')\n",
    "print(it_companies)"
   ]
  },
  {
   "cell_type": "code",
   "execution_count": 7,
   "metadata": {},
   "outputs": [
    {
     "name": "stdout",
     "output_type": "stream",
     "text": [
      "{'IBM', 'Twitter', 'Mindtree', 'TCS', 'Facebook', 'Amazon', 'Infotech', 'Apple', 'Wipro', 'Oracle', 'Google', 'Microsoft'}\n"
     ]
    }
   ],
   "source": [
    "# Insert multiple IT companies at once to the set it_companies\n",
    "other_companies = {\"Mindtree\",'TCS','Infotech','Wipro'}\n",
    "it_companies.update(other_companies)\n",
    "print(it_companies)"
   ]
  },
  {
   "cell_type": "code",
   "execution_count": 12,
   "metadata": {},
   "outputs": [
    {
     "name": "stdout",
     "output_type": "stream",
     "text": [
      "{'Twitter', 'Mindtree', 'Facebook', 'Amazon', 'Infotech', 'Apple', 'Wipro', 'Oracle', 'Google', 'Microsoft'}\n",
      "10\n"
     ]
    }
   ],
   "source": [
    "# Remove one of the companies from the set it_companies\n",
    "\n",
    "print(it_companies)\n",
    "print(len(it_companies))"
   ]
  },
  {
   "cell_type": "code",
   "execution_count": 13,
   "metadata": {},
   "outputs": [
    {
     "name": "stdout",
     "output_type": "stream",
     "text": [
      "{'Mindtree', 'Facebook', 'Amazon', 'Infotech', 'Apple', 'Wipro', 'Oracle', 'Google', 'Microsoft'}\n",
      "9\n",
      "Twitter\n"
     ]
    }
   ],
   "source": [
    "removed_item = it_companies.pop()\n",
    "print(it_companies)\n",
    "print(len(it_companies))\n",
    "print(removed_item)"
   ]
  },
  {
   "cell_type": "code",
   "execution_count": 14,
   "metadata": {},
   "outputs": [
    {
     "name": "stdout",
     "output_type": "stream",
     "text": [
      "{'Facebook', 'Amazon', 'Infotech', 'Apple', 'Wipro', 'Oracle', 'Google', 'Microsoft'}\n",
      "8\n",
      "None\n"
     ]
    }
   ],
   "source": [
    "Item = it_companies.discard('Mindtree')\n",
    "print(it_companies)\n",
    "print(len(it_companies))\n",
    "print(Item)"
   ]
  },
  {
   "cell_type": "code",
   "execution_count": 16,
   "metadata": {},
   "outputs": [
    {
     "name": "stdout",
     "output_type": "stream",
     "text": [
      "{'Facebook', 'Infotech', 'Apple', 'Wipro', 'Oracle', 'Google', 'Microsoft'}\n",
      "7\n",
      "None\n"
     ]
    }
   ],
   "source": [
    "Item2 = it_companies.remove('Amazon')\n",
    "print(it_companies)\n",
    "print(len(it_companies))\n",
    "print(Item2)"
   ]
  },
  {
   "cell_type": "code",
   "execution_count": 17,
   "metadata": {},
   "outputs": [
    {
     "name": "stdout",
     "output_type": "stream",
     "text": [
      "{'Infotech', 'Apple', 'Wipro', 'Oracle', 'Google', 'Microsoft'}\n",
      "6\n",
      "Facebook\n"
     ]
    }
   ],
   "source": [
    "Item3 = it_companies.pop()\n",
    "print(it_companies)\n",
    "print(len(it_companies))\n",
    "print(Item3)"
   ]
  },
  {
   "cell_type": "code",
   "execution_count": 22,
   "metadata": {},
   "outputs": [
    {
     "name": "stdout",
     "output_type": "stream",
     "text": [
      "The A uniun B is  {19, 20, 22, 24, 25, 26, 27, 28}\n",
      "The set A is {19, 20, 22, 24, 25, 26}\n",
      "The set B is  {19, 20, 22, 24, 25, 26, 27, 28}\n"
     ]
    }
   ],
   "source": [
    "# Join A and B\n",
    "A = {19, 22, 24, 20, 25, 26}\n",
    "B = {19, 22, 20, 25, 26, 24, 28, 27}\n",
    "print('The A uniun B is ',A.union(B))\n",
    "print('The set A is' ,A)\n",
    "print('The set B is ',B)\n"
   ]
  },
  {
   "cell_type": "code",
   "execution_count": 23,
   "metadata": {},
   "outputs": [
    {
     "name": "stdout",
     "output_type": "stream",
     "text": [
      "The set of A intersection B  {19, 20, 22, 24, 25, 26}\n",
      "The set A is {19, 20, 22, 24, 25, 26}\n",
      "The set B is  {19, 20, 22, 24, 25, 26, 27, 28}\n"
     ]
    }
   ],
   "source": [
    "# Find A intersection B\n",
    "print('The set of A intersection B ',B.intersection(A))\n",
    "print('The set A is' ,A)\n",
    "print('The set B is ',B)\n",
    "\n"
   ]
  },
  {
   "cell_type": "code",
   "execution_count": 26,
   "metadata": {},
   "outputs": [
    {
     "name": "stdout",
     "output_type": "stream",
     "text": [
      "Does A is subset of B  True\n",
      "Does B is subset of A  False\n"
     ]
    }
   ],
   "source": [
    "print('Does A is subset of B ',A.issubset(B))\n",
    "print('Does B is subset of A ',B.issubset(A))"
   ]
  },
  {
   "cell_type": "code",
   "execution_count": 27,
   "metadata": {},
   "outputs": [
    {
     "name": "stdout",
     "output_type": "stream",
     "text": [
      "Does A is superset of B  False\n",
      "Does B is superset of A  True\n"
     ]
    }
   ],
   "source": [
    "print('Does A is superset of B ',A.issuperset(B))\n",
    "print('Does B is superset of A ',B.issuperset(A))"
   ]
  },
  {
   "cell_type": "code",
   "execution_count": 29,
   "metadata": {},
   "outputs": [
    {
     "name": "stdout",
     "output_type": "stream",
     "text": [
      "Does A and B are disjoin  False\n"
     ]
    }
   ],
   "source": [
    "# Are A and B disjoint sets\n",
    "print('Does A and B are disjoin ',A.isdisjoint(B))"
   ]
  },
  {
   "cell_type": "code",
   "execution_count": 30,
   "metadata": {},
   "outputs": [
    {
     "name": "stdout",
     "output_type": "stream",
     "text": [
      "{19, 20, 22, 24, 25, 26, 27, 28}\n",
      "{19, 20, 22, 24, 25, 26, 27, 28}\n"
     ]
    }
   ],
   "source": [
    "# Join A with B and B with A\n",
    "print(A.union(B))\n",
    "print(B.union(A))"
   ]
  },
  {
   "cell_type": "code",
   "execution_count": 31,
   "metadata": {},
   "outputs": [
    {
     "name": "stdout",
     "output_type": "stream",
     "text": [
      "{27, 28}\n"
     ]
    }
   ],
   "source": [
    "# What is the symmetric difference between A and B\n",
    "print(A.symmetric_difference(B))\n"
   ]
  },
  {
   "cell_type": "code",
   "execution_count": 32,
   "metadata": {},
   "outputs": [
    {
     "ename": "NameError",
     "evalue": "name 'A' is not defined",
     "output_type": "error",
     "traceback": [
      "\u001b[1;31m---------------------------------------------------------------------------\u001b[0m",
      "\u001b[1;31mNameError\u001b[0m                                 Traceback (most recent call last)",
      "\u001b[1;32me:\\Data Scientist program\\Python Practice\\30 days of python practice\\Day_07_Set\\Sets.ipynb Cell 17\u001b[0m in \u001b[0;36m<cell line: 2>\u001b[1;34m()\u001b[0m\n\u001b[0;32m      <a href='vscode-notebook-cell:/e%3A/Data%20Scientist%20program/Python%20Practice/30%20days%20of%20python%20practice/Day_07_Set/Sets.ipynb#X22sZmlsZQ%3D%3D?line=0'>1</a>\u001b[0m \u001b[39mdel\u001b[39;00m A\n\u001b[1;32m----> <a href='vscode-notebook-cell:/e%3A/Data%20Scientist%20program/Python%20Practice/30%20days%20of%20python%20practice/Day_07_Set/Sets.ipynb#X22sZmlsZQ%3D%3D?line=1'>2</a>\u001b[0m \u001b[39mprint\u001b[39m(A)\n",
      "\u001b[1;31mNameError\u001b[0m: name 'A' is not defined"
     ]
    }
   ],
   "source": [
    "del A\n",
    "print(A)"
   ]
  },
  {
   "cell_type": "code",
   "execution_count": 35,
   "metadata": {},
   "outputs": [
    {
     "name": "stdout",
     "output_type": "stream",
     "text": [
      "[22, 19, 24, 25, 26, 24, 25, 24] The length of age is  8\n",
      "{19, 22, 24, 25, 26}  The length of set_of_age is  5\n"
     ]
    }
   ],
   "source": [
    "# Convert the ages to a set and compare the\n",
    "# length of the list and the set, which one is bigger?\n",
    "age = [22, 19, 24, 25, 26, 24, 25, 24]\n",
    "set_of_age = set(age)\n",
    "print(age,'The length of age is ',len(age))\n",
    "print(set_of_age,\" The length of set_of_age is \",len(set_of_age))\n"
   ]
  },
  {
   "cell_type": "code",
   "execution_count": null,
   "metadata": {},
   "outputs": [],
   "source": [
    "# Explain the difference between the following data types: string, list, tuple and set"
   ]
  },
  {
   "cell_type": "code",
   "execution_count": 39,
   "metadata": {},
   "outputs": [
    {
     "name": "stdout",
     "output_type": "stream",
     "text": [
      "{'people.', 'am', 'teacher', 'love', 'inspire', 'to', 'teach', 'I', 'and', 'a'}\n",
      "The sentence contains 10 words\n"
     ]
    }
   ],
   "source": [
    "# I am a teacher and I love to inspire and teach people. \n",
    "# How many unique words have been used in the sentence? \n",
    "# Use the split methods and set to get the unique words.\n",
    "sentence = 'I am a teacher and I love to inspire and teach people.'\n",
    "set_of_words = set(sentence.split(' '))\n",
    "print(set_of_words)\n",
    "print('The sentence contains {} words'.format(len(set_of_words)))"
   ]
  },
  {
   "cell_type": "code",
   "execution_count": null,
   "metadata": {},
   "outputs": [],
   "source": []
  }
 ],
 "metadata": {
  "kernelspec": {
   "display_name": "Python 3.10.5 64-bit",
   "language": "python",
   "name": "python3"
  },
  "language_info": {
   "codemirror_mode": {
    "name": "ipython",
    "version": 3
   },
   "file_extension": ".py",
   "mimetype": "text/x-python",
   "name": "python",
   "nbconvert_exporter": "python",
   "pygments_lexer": "ipython3",
   "version": "3.10.5"
  },
  "orig_nbformat": 4,
  "vscode": {
   "interpreter": {
    "hash": "26de051ba29f2982a8de78e945f0abaf191376122a1563185a90213a26c5da77"
   }
  }
 },
 "nbformat": 4,
 "nbformat_minor": 2
}
